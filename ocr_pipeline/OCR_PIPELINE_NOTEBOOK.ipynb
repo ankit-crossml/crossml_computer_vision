{
 "cells": [
  {
   "cell_type": "code",
   "execution_count": 1,
   "id": "3f0d33e3",
   "metadata": {},
   "outputs": [],
   "source": [
    "import easyocr"
   ]
  },
  {
   "cell_type": "code",
   "execution_count": 2,
   "id": "947e60c8",
   "metadata": {},
   "outputs": [],
   "source": [
    "import cv2\n",
    "import os \n",
    "from PIL import Image\n",
    "import matplotlib.pyplot as plt \n",
    "import shutil\n"
   ]
  },
  {
   "cell_type": "code",
   "execution_count": 3,
   "id": "3dffed1e",
   "metadata": {},
   "outputs": [],
   "source": [
    "def convert_doc_to_images(doc_location):\n",
    "    multi_read = cv2.imreadmulti(doc_location)\n",
    "    \n",
    "    num_pages = len(multi_read[1])\n",
    "    \n",
    "    images = []\n",
    "    \n",
    "    for i in range(num_pages):\n",
    "        images.append(multi_read[1][i])\n",
    "        \n",
    "    return images \n",
    "\n",
    "def save_arrays_as_images(list_arrays):\n",
    "    \n",
    "    base_name = \"saved_folder/image\"\n",
    "    \n",
    "    folder_name = base_name.split('/')[0]\n",
    "    \n",
    "    if not os.path.isdir(folder_name):\n",
    "        os.mkdir(folder_name)\n",
    "        \n",
    "    i = 1 \n",
    "    names = []\n",
    "    \n",
    "    for arr in list_arrays:\n",
    "        name = base_name + str(i) + \".png\"\n",
    "        res = cv2.imwrite(name, arr)\n",
    "        if not res:\n",
    "            raise Exception(\"Image Not Saved!\")\n",
    "            \n",
    "        names.append(name)\n",
    "        i+=1\n",
    "        \n",
    "    return names \n",
    "        "
   ]
  },
  {
   "cell_type": "code",
   "execution_count": 4,
   "id": "33aceaf3",
   "metadata": {},
   "outputs": [],
   "source": [
    "\n",
    "def save_pdf_from_images(img_locations, saved_name):\n",
    "    \n",
    "    folder_name = \"saved_pdf\"\n",
    "    if not os.path.isdir(folder_name):\n",
    "        os.mkdir(folder_name)\n",
    "        \n",
    "    images = []\n",
    "\n",
    "    for img_loc in img_locations:\n",
    "        image = Image.open(img_loc)\n",
    "        image = image.convert('RGB')\n",
    "        images.append(image)\n",
    "\n",
    "    first_element = images.pop(0)\n",
    "    \n",
    "    location = folder_name + \"/\" + saved_name + \".pdf\"\n",
    "\n",
    "    first_element.save(location,save_all=True, append_images=images)\n",
    "    \n",
    "    print(\"pdf saved!\")\n",
    "    return location\n",
    "\n"
   ]
  },
  {
   "cell_type": "markdown",
   "id": "3309e6ae",
   "metadata": {},
   "source": [
    "##  Load Sample Doc "
   ]
  },
  {
   "cell_type": "code",
   "execution_count": 5,
   "id": "3989eb43",
   "metadata": {},
   "outputs": [],
   "source": [
    "# get numpy arrays of docs \n",
    "images = convert_doc_to_images(\"sample_doc.tif\")"
   ]
  },
  {
   "cell_type": "code",
   "execution_count": 6,
   "id": "77a8f3a4",
   "metadata": {},
   "outputs": [],
   "source": [
    "# get locations of saved images \n",
    "locations = save_arrays_as_images(images)"
   ]
  },
  {
   "cell_type": "markdown",
   "id": "da78f5e6",
   "metadata": {},
   "source": [
    "# 1. Easy OCR "
   ]
  },
  {
   "cell_type": "code",
   "execution_count": 7,
   "id": "0099a8bc",
   "metadata": {},
   "outputs": [
    {
     "name": "stderr",
     "output_type": "stream",
     "text": [
      "Using CPU. Note: This module is much faster with a GPU.\n"
     ]
    }
   ],
   "source": [
    "# create an object \n",
    "reader = easyocr.Reader(['en'], gpu=False) # this needs to run only once to load the model into memory\n",
    "\n"
   ]
  },
  {
   "cell_type": "code",
   "execution_count": 44,
   "id": "50fae849",
   "metadata": {},
   "outputs": [],
   "source": [
    "easyocr_result = []\n",
    "\n",
    "for image_loc in locations:\n",
    "    result = reader.readtext(image_loc, detail = 0)\n",
    "    result = \"\\n\".join(result)\n",
    "    easyocr_result.append(result)"
   ]
  },
  {
   "cell_type": "code",
   "execution_count": 46,
   "id": "f39a2194",
   "metadata": {},
   "outputs": [
    {
     "data": {
      "text/plain": [
       "list"
      ]
     },
     "execution_count": 46,
     "metadata": {},
     "output_type": "execute_result"
    }
   ],
   "source": [
    "type(easyocr_result)"
   ]
  },
  {
   "cell_type": "code",
   "execution_count": 47,
   "id": "435028f3",
   "metadata": {},
   "outputs": [
    {
     "name": "stdout",
     "output_type": "stream",
     "text": [
      "MISSOURI DIVISION OF EMPLOYMENT SECURITY\n",
      "EAUA\n",
      "UNEMPLOYMENT INSURANCE TAX\n",
      "QUARTERLY CONTRIBUTION\n",
      "MISSOURI EMPLOYER ACCOUNT NO\n",
      "AUDIT\n",
      "AND WAGE REPORT\n",
      "BLOCK\n",
      "01-40259-0-00\n",
      "(DO NOT\n",
      "File onllne al www uinteract labor mO gOv\n",
      "USE)\n",
      "3\n",
      "CALENDAR QUARTER MEAR\n",
      "YEAR\n",
      "2021\n",
      "Dale Paid\n",
      "EMPLOYER NAME AND ADDRESS\n",
      "Ist\n",
      "2nd\n",
      "X\n",
      "3rd\n",
      "4th\n",
      "Central\n",
      "MO\n",
      "Professlonal\n",
      "Services\n",
      "Mis#AVEADuNaWN\n",
      "RERO\n",
      "322855 . 97\n",
      "CIO\n",
      "ATTN\n",
      "278973.18\n",
      "2500\n",
      "E \n",
      "McCarty\n",
      "St _\n",
      "43882 . 79\n",
      "Jefferson City\n",
      "MO\n",
      "65101\n",
      "TAXES DUE (Multiply Item 6 by Your Rate)\n",
      "14\n",
      "FEDERAL ID NUMBER\n",
      "43-1800354\n",
      "InteREST ASSESSMENT DUE TO\n",
      "00\n",
      "maling, relum Ihls page with remitlance (o\n",
      "FEDERAL ADVANCES\n",
      "Dlvlslon ot Employment Securlty\n",
      "InTEREST CHARGES OF PER\n",
      "P0\n",
      "Oox 888\n",
      "Jelterson Clty, MO 65102-0888\n",
      "MONTH IF PAID AFTER\n",
      "Make check payable lo Division of Employmenl Secunty or\n",
      "10\n",
      "LATE REPORT PENALTY CHARGES\n",
      "pay onlne al www uinleract labor mo gov\n",
      "See ltem 15 1o Ihe Let))\n",
      "573 751 1995\n",
      "11\n",
      "OUTSTANDING AMOUNTS AS OF\n",
      "15\n",
      "THIS REPORT IS DUE BY\n",
      "07/31/2021\n",
      "GREATER OF 10% OR $100 PENALTY AFTER\n",
      "12\n",
      "TOTAL PAYMENT\n",
      "0\n",
      "GREATER QF 20% QR 320O PENALTY AFTER\n",
      "Place X in applcable box and complete \"Employer Change Request\n",
      "13\n",
      "FOR EACH MONTH, ENTER THE NUMBER OF COVERED WORKERS\n",
      "WHO WORKED OR RECEIVED PAY FOR THE PERIOD THAT INCLUDES\n",
      "Bueingae Sold\n",
      "Employmant Ceasod\n",
      "Change 0/ Addrese\n",
      "THE 12TH OF THE MONTH\n",
      "161\n",
      "20\n",
      "2nd\n",
      "22\n",
      "ard\n",
      "22\n",
      "(Please PrInt)\n",
      "qerdfy that the\n",
      "In Ihis report, Including name and address In Ilem\n",
      "1,IS Irue and conect\n",
      "OR\n",
      "TAXPAYER\n",
      "PREPARER\n",
      "R7771zb,\n",
      "TITLEX\n",
      "bu1U\n",
      "PHONE\n",
      "573-634-3455\n",
      "16. SSM\n",
      "17. Flrst Name\n",
      "Middle\n",
      "Last name\n",
      "18. Total wages\n",
      "19\n",
      "20_\n",
      "Probatl\n",
      "Probati\n",
      "Inltlal\n",
      "Multl:\n",
      "Proba-\n",
      "onary\n",
      "onary\n",
      "stato\n",
      "Ilonary|\n",
      "Start\n",
      "End\n",
      "Date\n",
      "Date\n",
      "SEE\n",
      "ATTACHEE\n",
      "21\n",
      "PAGE\n",
      "1 OF\n",
      "PAGES\n",
      "2\n",
      "TOTAL TKIS PAGE\n",
      "THIS FORM IS READ BY\n",
      "MACHINE\n",
      "PLEASE TYPE OR PRINT THIS REPORT\n",
      "Mssouri Division ot Employment Security IS an equal opportunity employerlprogram Auxiliary ads and services\n",
      "MODES-4 (05 16)\n",
      "are available upon request I0 Individuals wilh disabilities\n",
      "TDDNTTY 800-735-2986 Relay Missouri\n",
      "711\n",
      "UI Tax\n"
     ]
    }
   ],
   "source": [
    "print(easyocr_result[0])"
   ]
  },
  {
   "cell_type": "code",
   "execution_count": 48,
   "id": "50248ee8",
   "metadata": {},
   "outputs": [
    {
     "name": "stdout",
     "output_type": "stream",
     "text": [
      "MISSOURI DEPARTMENT OF LABOR AND INDUSTRIAL RELATIONS\n",
      "EAU 10B\n",
      "DIVISION OF EMPLOYMENT SECURITY\n",
      "QUARTERLY WAGE REPORT\n",
      "P0\n",
      "Box 888\n",
      "CONTINUATION SHEET\n",
      "Jefferson City, MO 65102-0888\n",
      "Type or print_In_ink:\n",
      "Print employer'& name and account number a5 shown on\n",
      "CALENDAR QUARTER AND YEAR\n",
      "Form MODES-4 Quarlerly Contribullon and Wage Report\n",
      "Central\n",
      "MO\n",
      "Professional\n",
      "Services\n",
      "1st\n",
      "2nd\n",
      "X\n",
      "3rd\n",
      "4th\n",
      "01-40259-0-00\n",
      "Year\n",
      "2021\n",
      "16 Soclal Securlty No\n",
      "17 Flret name\n",
      "Mlddle\n",
      "Last name\n",
      "18 Totel Wages\n",
      "19\n",
      "20\n",
      "Probatlonary\n",
      "Probatlonary\n",
      "Inltlal\n",
      "Multi-\n",
      "Proba-\n",
      "Start Dete\n",
      "End date\n",
      "State\n",
      "Ilonary\n",
      "498-50-0899\n",
      "KEITH\n",
      "M\n",
      "BRICKEY\n",
      "23250.00\n",
      "492-58-4800\n",
      "DARREL\n",
      "SMITH\n",
      "16130\n",
      "0o1\n",
      "493-78-9576\n",
      "DERRICK\n",
      "F\n",
      "VETTER\n",
      "13631\n",
      "26\n",
      "489-86-4328\n",
      "DANNY\n",
      "KLIETHERMES\n",
      "8643\n",
      "13\n",
      "491-94-5093\n",
      "RANDY\n",
      "HOLTMEYER\n",
      "11734\n",
      "00\n",
      "497-80-6308\n",
      "CURTIS\n",
      "F\n",
      "BAX\n",
      "16227\n",
      "20\n",
      "496-84-3728\n",
      "BRIAN\n",
      "K\n",
      "MCMILLIAN\n",
      "27942\n",
      "94\n",
      "494-88-2893\n",
      "MATTHEW\n",
      "F\n",
      "SEALS\n",
      "9122.50\n",
      "486-80-6502\n",
      "GREGORY\n",
      "HENKE\n",
      "19053\n",
      "76\n",
      "498-78-1879\n",
      "JOHN\n",
      "B\n",
      "ROCKWELL\n",
      "15472\n",
      "001\n",
      "486-66-5548\n",
      "RANDALL\n",
      "KIRCHNER\n",
      "12424\n",
      "38\n",
      "493-19-8902\n",
      "Noah\n",
      "Kesel\n",
      "4221\n",
      "00\n",
      "491-94-3569\n",
      "SCOTT\n",
      "BITTLE\n",
      "9112\n",
      "51\n",
      "500-94-5644\n",
      "Cody\n",
      "Darr\n",
      "11460\n",
      "00\n",
      "486-74-5396\n",
      "PAUL\n",
      "SAMSON\n",
      "30568 . 59\n",
      "488-82-9815\n",
      "GREGORY\n",
      "J\n",
      "DORGE\n",
      "24804\n",
      "69\n",
      "492-82-2409\n",
      "PATRICK\n",
      "KREMER\n",
      "19597.50\n",
      "493-17-9304\n",
      "Caleb\n",
      "Werdenhausen\n",
      "6452\n",
      "50\n",
      "493-13-1978\n",
      "KURTIS\n",
      "BRICKEY\n",
      "9483\n",
      "001\n",
      "356-70-1640\n",
      "JERRY\n",
      "MORGAN\n",
      "9534.00\n",
      "494-13-9484\n",
      "SAMUEL\n",
      "SCHROEDER\n",
      "7968\n",
      "51\n",
      "510-04-6258\n",
      "DANIEL\n",
      "CUNNINGHAM\n",
      "16022.50\n",
      "21 PAGE 2\n",
      "OF\n",
      "2\n",
      "PAGES\n",
      "TOTAL THIS PAGE\n",
      "322855\n",
      "97\n",
      "Be sure that each page carries employer's name, account number, page number; and calendar quarter and year\n",
      "Return the original completed form to the Division of Employment Security, P 0\n",
      "Box 888, Jefferson City, MO 65102-0888\n",
      "Retain copy for your file\n",
      "IMPORTANT\n",
      "If needed, call 573-751-1995 for assistance In the translation and understanding 0t the Intormation In Ihls document\n",
      "IMPORTANTEI\n",
      "Si es necesario, Ilame &l 573-751-1995 para esistencia en Ia traduccion y entendimiento de Ia Informacion en este documento\n",
      "Missouri Division of Employment Security IS &n equal opportunity employerlprogram Auxiliary &ds and services\n",
      "are available upon request t0 individuals with disabilties\n",
      "TDDITTY 800-735-2966 Relay Missouri\n",
      "711\n",
      "MODES-10B(05-16)\n",
      "UI Tax\n"
     ]
    }
   ],
   "source": [
    "print(easyocr_result[1])"
   ]
  },
  {
   "cell_type": "markdown",
   "id": "fc2fd46c",
   "metadata": {},
   "source": [
    "### Saving Result"
   ]
  },
  {
   "cell_type": "code",
   "execution_count": 49,
   "id": "9fff0164",
   "metadata": {},
   "outputs": [],
   "source": [
    "# create a directory if not already \n",
    "if not os.path.isdir(\"saved_results\"):\n",
    "        os.mkdir(\"saved_results\")"
   ]
  },
  {
   "cell_type": "code",
   "execution_count": 51,
   "id": "6aa828ef",
   "metadata": {},
   "outputs": [],
   "source": [
    "# save the result\n",
    "def save_result_in_txt(name, string):\n",
    "    with open(\"saved_results/\" + name + \".txt\", \"w\") as text_file:\n",
    "        text_file.write(string)\n",
    "        print(\"Saved\")"
   ]
  },
  {
   "cell_type": "code",
   "execution_count": 54,
   "id": "9c03896e",
   "metadata": {},
   "outputs": [
    {
     "name": "stdout",
     "output_type": "stream",
     "text": [
      "Saved\n"
     ]
    }
   ],
   "source": [
    "final_result = \"\\n\".join(easyocr_result)\n",
    "\n",
    "save_result_in_txt(\"easy_ocr\", final_result)"
   ]
  },
  {
   "cell_type": "markdown",
   "id": "f952aa2c",
   "metadata": {},
   "source": [
    "# 2. Pytesseract "
   ]
  },
  {
   "cell_type": "code",
   "execution_count": 55,
   "id": "72b459e9",
   "metadata": {},
   "outputs": [],
   "source": [
    "import pytesseract"
   ]
  },
  {
   "cell_type": "code",
   "execution_count": 56,
   "id": "ce85c976",
   "metadata": {},
   "outputs": [
    {
     "data": {
      "text/plain": [
       "'MISSOURI DIVISION OF EMPLOYMENT SECURITY EAU4\\nUNEMPLOYMENT INSURANCE TAX\\n\\n     \\n          \\n   \\n  \\n      \\n  \\n    \\n\\nQUARTERLY CONTRIBUTION 2 MISSOURI EMPLOYER ACCOUNT NO AUDIT\\nAND WAGE REPORT BLOCK\\n\\n01-40259-0-00 eonor\\n\\n3 CALENDAR QUARTER /YEAR YEAR 2021\\nyarn? Eee By a eo\\ni +H aa\\n\\na |\\n322855.97 +\\n\\n278973.18 =\\n\\nRe h i i\\n7 TES DUE nl Item 6 Shy: Your Rate) Tot |\\nINTEREST ASSESSMENT DUE TO | oof\\nFEDERAL ADVANCES\\n9 INTEREST CHARGES OF PER | oof |\\nMONTH IF PAID AFTER\\n10 LATE REPORT PENALTY CHARGES | oof\\n‘See Item 15 to the Left\\n\\n11 OUTSTANDING AMOUNTS AS OF\\n\\n  \\n\\nFile online al www uinteract labor mo gov\\n\\n1 EMPLOYER NAME AND ADDRESS.\\nCentral MO Professional Services\\n\\n   \\n \\n\\ncio\\nATTN\\n\\n2500 E. McCarty St.\\n\\n  \\n\\nJefferson City MO 65101\\n14 FEDERAL ID NUMBER 43-1800354\\n\\n \\n  \\n    \\n\\n  \\n   \\n \\n    \\n\\nIf matting, return this page with remittance to\\n\\nDivision of Employment Security\\nPO Box 888\\nJetterson City, MO 65102-0888\\n\\nMake check payable to Division of Employment Security or\\npay online at www umnteract labor mo gov\\n573 751 1995\\n18 THIS REPORT IS DUE BY 07/31/2021\\nGREATER OF 10% OR $100 PENALTY AFTER\\n\\nGREATER OF 20% OR $200 PENALTY AFTER\\nPlace X in applicable box and complete \"Employer Change Request “\\n\\n  \\n  \\n   \\n  \\n  \\n  \\n    \\n\\n  \\n\\n   \\n\\n \\n   \\n\\n  \\n    \\n      \\n       \\n\\n12 TOTAL PAYMENT\\n\\n  \\n\\n13 FOR EACH MONTH, ENTER THE NUMBER OF COVERED WORKERS\\nWHO WORKED OR RECEIVED PAY FOR THE PERIOD THAT INCLUDES\\nTHE 12TH OF THE MONTH\\n\\nwt | 620 2nd = 22 ard 22\\n\\n   \\n\\n    \\n\\n    \\n\\nBusiness Sold Employment Ceased Change of Address\\n\\n \\n\\n  \\n   \\n\\n   \\n\\n    \\n  \\n   \\n\\n(Please Print) (\\n\\nTAXPAYER\\nOR PREPARER iN\\n\\n573-634-3455\\n\\n17. FirstName | Middle Last name 18. Total wages |. Probati\\nInitlal onary\\n\\nTEX OUMAK. PHONE\\n\\n \\n\\n     \\n\\n \\n\\n  \\n     \\n   \\n\\nme SiC\\na a CO\\n\\n \\n \\n\\n21 PAGE 10F PAGES 2 TOTAL THIS PAGE PY\\n\\nTHIS FORM IS READ BY A MACHINE PLEASE TYPE OR PRINT THIS REPORT\\n\\nMissouri Division of Employment Security 1s an equal opportumty employer/program Auxilary aids and services MODES-4 (05 16}\\nare available upon request to individuals with disabilities TDD/TTY 800-735-2966 Relay Missoun 717 Ut Tax\\n\\x0c'"
      ]
     },
     "execution_count": 56,
     "metadata": {},
     "output_type": "execute_result"
    }
   ],
   "source": [
    "pytesseract.image_to_string(locations[0])"
   ]
  },
  {
   "cell_type": "code",
   "execution_count": 61,
   "id": "34dd5247",
   "metadata": {},
   "outputs": [],
   "source": [
    "pytesseract_result = []\n",
    "\n",
    "for image_loc in locations:\n",
    "    result = pytesseract.image_to_string(image_loc)\n",
    "    pytesseract_result.append(result)"
   ]
  },
  {
   "cell_type": "markdown",
   "id": "3b6b2e00",
   "metadata": {},
   "source": [
    "### Save result "
   ]
  },
  {
   "cell_type": "code",
   "execution_count": 62,
   "id": "478ae79e",
   "metadata": {},
   "outputs": [
    {
     "name": "stdout",
     "output_type": "stream",
     "text": [
      "Saved\n"
     ]
    }
   ],
   "source": [
    "final_result = \"\\n\".join(pytesseract_result)\n",
    "\n",
    "save_result_in_txt(\"pytesseract\", final_result)"
   ]
  },
  {
   "cell_type": "markdown",
   "id": "da36b6e3",
   "metadata": {},
   "source": [
    "# 3. pyocr "
   ]
  },
  {
   "cell_type": "code",
   "execution_count": 63,
   "id": "1d76657f",
   "metadata": {},
   "outputs": [],
   "source": [
    "import pyocr "
   ]
  },
  {
   "cell_type": "code",
   "execution_count": 64,
   "id": "52728e21",
   "metadata": {},
   "outputs": [
    {
     "name": "stdout",
     "output_type": "stream",
     "text": [
      "Will use tool 'Tesseract (sh)'\n",
      "Available languages: eng, osd, snum\n",
      "Will use lang 'eng'\n"
     ]
    }
   ],
   "source": [
    "tools = pyocr.get_available_tools()\n",
    "if len(tools) == 0:\n",
    "    print(\"No OCR tool found\")\n",
    "    sys.exit(1)\n",
    "# The tools are returned in the recommended order of usage\n",
    "tool = tools[0]\n",
    "print(\"Will use tool '%s'\" % (tool.get_name()))\n",
    "# Ex: Will use tool 'libtesseract'\n",
    "\n",
    "langs = tool.get_available_languages()\n",
    "print(\"Available languages: %s\" % \", \".join(langs))\n",
    "lang = langs[0]\n",
    "print(\"Will use lang '%s'\" % (lang))\n",
    "# Ex: Will use lang 'fra'\n",
    "# Note that languages are NOT sorted in any way. Please refer\n",
    "# to the system locale settings for the default language\n",
    "# to use.\n"
   ]
  },
  {
   "cell_type": "code",
   "execution_count": 73,
   "id": "f6ddaf10",
   "metadata": {},
   "outputs": [],
   "source": [
    "pyocr_result = []\n",
    "for image_loc in locations:\n",
    "    txt = tool.image_to_string(\n",
    "        Image.open(image_loc),\n",
    "        lang=lang,\n",
    "        builder=pyocr.builders.TextBuilder()\n",
    "    )\n",
    "    pyocr_result.append(txt)\n"
   ]
  },
  {
   "cell_type": "code",
   "execution_count": 74,
   "id": "d61be04c",
   "metadata": {},
   "outputs": [
    {
     "data": {
      "text/plain": [
       "['MISSOURI DIVISION OF EMPLOYMENT SECURITY\\n\\n \\n\\n \\n\\n \\n\\n   \\n\\n \\n\\n \\n\\n \\n\\n \\n\\n \\n\\n \\n\\nEAU4\\nUNEMPLOYMENT INSURANCE TAX\\nQUARTERLY CONTRIBUTION 2 MISSOURI EMPLOYER ACCOUNT NO AUDIT\\nAND WAGE REPORT BLOCK\\n01-40259-0-00 (D0 NOT\\nFile online al www uinteract labor mo gov USE)\\n3 CALENDAR QUARTER /YEAR YEAR 2021] Date Pad\\n1 EMPLOYER NAME AND ADDRESS\\nIst and X 3rd 4th\\nCentral MO Professional Services OT e ry TT\\ncio\\nATTN\\n_—_ 4 278973.18\\n2500 E. McCarty St. — 7\\n43882.79\\n. +\\nJefferson City MO 65101 7 TAXES DUE (Multiply Item 6 by Your Rate)\\n14 FEDERALIDNUMBER 431800354 +00\\n8 INTEREST ASSESSMENT DUE TO\\nIf matting, return this page with remittance to FEDERAL ADVANCES | 90\\nDivision of Employment Security 9 INTEREST CHARGES OF PER\\nOx -00\\nJetterson Clty, MO 65102-0888 MONTH IF PAID AFTER\\nMake check payable to Division of Employment Security or 10 LATE REPORT PENALTY CHARGES 00\\npay online at www umnteract labor mo gov {See Item 15 to the Left) :\\n573 751 1995 11. OUTSTANDING AMOUNTS AS OF\\n15 THIS REPORT IS DUE BY 07/31/2021 90\\nGREATER OF 10% OR $100 PENALTY AFTER 12 TOTAL PAYMENT .00\\n\\nPlace X in applicable box and complete \"Employer Change Request “\\n\\n \\n\\n \\n \\n \\n\\nGREATER OF 20% OR $200 PENALTY AFTER\\n\\n \\n\\n \\n\\n \\n\\n \\n\\n \\n\\n13 FOR EACH MONTH, ENTER THE NUMBER OF COVERED WORKERS\\nWHO WORKED OR RECEIVED PAY FOR THE PERIOD THAT INCLUDES\\n\\n \\n\\n \\n\\n \\n\\n   \\n\\n \\n\\n \\n\\n \\n\\n \\n\\n \\n\\n \\n\\n \\n\\n \\n\\n \\n\\n \\n\\n \\n\\n \\n\\n \\n\\n \\n\\n \\n\\n \\n\\n \\n\\n \\n\\nBusiness Sold Employment Ceased Change of Address THE 12TH OF THE MONTH\\n—J}ist 20 2nd 22 ard 22\\n(Please Print) ed in this report, including name and address in Item 1, 1s true and correct\\nTAXPAYER 6340\\nOR PREPARER nme K CumarK. PHONE 573763473455\\n16. SSN 17. First Name | Middle Last name 18. Total wages 19. 20. | Probati | Probati\\nInitlal Multl- | Proba-| onary onary\\nstate | tionary Start End\\nDate Date\\nSEE ATTACHED\\n4 + +—\\n{_—_—___ iF\\naoa po ————\\n____|_| oe + 1\\n21 PAGE 1OF PAGES 2 TOTAL THIS PAGE\\n\\n \\n\\n \\n\\n \\n\\nTHIS FORM IS READ BY A MACHINE PLEASE TYPE OR PRINT THIS REPORT\\n\\nMissouri Division of Employment Security 1s an equal opportumty employer/program Auxilary aids and services\\n\\nare available upon request to individuals with disabilities TDD/TTY 800-735-2966 Relay Missoun 717\\n\\n \\n\\n \\n\\n \\n\\nMODES-4 (05 16)\\nUt Tax',\n",
       " \"MISSOURI DEPARTMENT OF LABOR AND INDUSTRIAL RELATIONS EAU 108\\nDIVISION OF EMPLOYMENT SECURITY\\n\\n \\n\\n \\n\\n \\n\\n \\n\\n \\n\\n \\n\\n \\n\\n \\n\\n \\n\\n \\n\\n \\n\\n \\n\\n \\n\\n \\n\\n \\n\\n \\n\\n \\n\\n \\n\\n \\n\\n \\n\\n \\n\\n \\n\\n \\n\\n \\n\\n \\n\\n \\n\\n \\n\\n \\n\\n \\n\\n \\n\\n \\n\\n \\n\\n \\n\\n \\n\\nQUARTERLY WAGE REPORT PO Box 888\\nCONTINUATION SHEET Jefferson City, MO 65102-0888\\nType or print in ink,\\nPrint employer's name and account number as shown on CALENDAR QUARTER AND YEAR\\nForm MOODES-4 Quarterly Contributlon and Wage Report\\nCentral MO Professional Services tst ond X& ard ath\\n01-40259-0-00 Year 2021\\nTie Social Security No 17 Firstname —_| Middle Last name 18 Total Wages 19 20 Probationary | Probationary\\nInitlal Multl- Proba- Start Date End date\\nState thonary\\n498-50-0899 | KEITH M |BRICKEY 23250.00\\n492-58-4800 DARREL G |SMITH 16130,.00\\n493-78-9576 DERRICK F lvarTer 13631.26\\n489-86-4328 DANNY R {KLIETHERMES 8643 13\\n491-94-5093 RANDY L |HOLTMEYER 11734 00 ]\\n497-800-6308 CURTIS F |BAX 16227 20\\n496-84-3728 BRIAN K |MCMILLIAN 27942 94\\n494-88-2893 | MATTHEW F |SEALS 9122.50\\n486-80-6502 © | GREGORY _ _F_ | HENKE 19053 76\\n498-78-1879 | JOHN B |ROCKWELL 15472 00\\n486-66-5548 RANDALL L |KIRCHNER 12424 38 |\\n493-19-8902 |Noah Kesel 4221 00 i\\n491-94-3569 scoTT BITTLE 9112 51\\n300-94-5644 Cody Darr 11460 00\\n486-74-5396 PAUL L |SAMSON 30568.59\\n488-82-9815 GREGORY J |DORGE 24804 69\\n492-82-2409 PATRICK P |KREMER 19597.50\\n493-17-9304 Caleb Werdenhausen 6452 50\\n493-13-1978 KURTIS BRICKEY 9483 00\\n356-70~1640 JERRY W |MORGAN 9534.00\\n494-13-9484 SAMUEL SCHROEDER 7968 51\\n$10-04-6258 DANIEL CUNNINGHAM 16022.50\\n——————_——_—_—_—_\\n21 PAGE2 _OF_2__ PAGES TOTAL THIS PAGE 322855 97\\n\\n \\n\\n \\n\\n \\n\\n \\n\\n \\n\\nBe sure that each page carries employer's name, account number, page number, and calendar quarter and year\\nReturn the original completed form to the Division of Employment Security, P O Box 888, Jefferson City, MO 65102-0888\\nRetain copy for your file\\n\\nIMPORTANT If needed, call 573-751-1995 for assistance in the transiation and understanding of the information in this document\\nIMPORTANTE! Si es necesario, flame al 573-751-1995 para asistencia en fa traduccién y entendimento de fa informacién en este documento\\nMissouri Division of Employment Security is an equal opportunity employer/program Auxiliary aids and services\\nare available upon request to individuals with disabilities TDD/TTY 800-735-2966 Relay Missour: 711\\n\\nMODES- 10B(05- 16}\\nUI Tax\"]"
      ]
     },
     "execution_count": 74,
     "metadata": {},
     "output_type": "execute_result"
    }
   ],
   "source": [
    "pyocr_result"
   ]
  },
  {
   "cell_type": "markdown",
   "id": "1101ec97",
   "metadata": {},
   "source": [
    "### Saved result"
   ]
  },
  {
   "cell_type": "code",
   "execution_count": 75,
   "id": "6d643622",
   "metadata": {},
   "outputs": [
    {
     "name": "stdout",
     "output_type": "stream",
     "text": [
      "Saved\n"
     ]
    }
   ],
   "source": [
    "final_result = \"\\n\".join(pyocr_result)\n",
    "\n",
    "save_result_in_txt(\"pyocr\", final_result)"
   ]
  },
  {
   "cell_type": "markdown",
   "id": "f4afe909",
   "metadata": {},
   "source": [
    "# 4.Camelot "
   ]
  },
  {
   "cell_type": "code",
   "execution_count": 81,
   "id": "ccc9c3e5",
   "metadata": {},
   "outputs": [],
   "source": [
    "import camelot"
   ]
  },
  {
   "cell_type": "code",
   "execution_count": 16,
   "id": "a3f18048",
   "metadata": {},
   "outputs": [
    {
     "name": "stdout",
     "output_type": "stream",
     "text": [
      "pdf saved!\n"
     ]
    }
   ],
   "source": [
    "# convert images to pdf \n",
    "\n",
    "pdf = save_pdf_from_images(locations, \"doc\")"
   ]
  },
  {
   "cell_type": "code",
   "execution_count": 9,
   "id": "31c6fdb3",
   "metadata": {},
   "outputs": [
    {
     "data": {
      "text/plain": [
       "'saved_pdf/doc.pdf'"
      ]
     },
     "execution_count": 9,
     "metadata": {},
     "output_type": "execute_result"
    }
   ],
   "source": [
    "pdf"
   ]
  },
  {
   "cell_type": "code",
   "execution_count": 82,
   "id": "6f9cc3f9",
   "metadata": {},
   "outputs": [
    {
     "name": "stderr",
     "output_type": "stream",
     "text": [
      "UserWarning: page-1 is image-based, camelot only works on text-based pages. [lattice.py:411]\n"
     ]
    }
   ],
   "source": [
    "tables = camelot.read_pdf(pdf)"
   ]
  },
  {
   "cell_type": "code",
   "execution_count": 83,
   "id": "1c1ce81c",
   "metadata": {},
   "outputs": [
    {
     "data": {
      "text/plain": [
       "<TableList n=0>"
      ]
     },
     "execution_count": 83,
     "metadata": {},
     "output_type": "execute_result"
    }
   ],
   "source": [
    "tables"
   ]
  },
  {
   "cell_type": "markdown",
   "id": "3d7ecd65",
   "metadata": {},
   "source": [
    "# 5. Keras-ocr (kernel dies in Mac) "
   ]
  },
  {
   "cell_type": "code",
   "execution_count": 90,
   "id": "2903078e",
   "metadata": {},
   "outputs": [
    {
     "name": "stdout",
     "output_type": "stream",
     "text": [
      "Collecting tensorflow\n",
      "  Downloading tensorflow-2.7.0-cp39-cp39-macosx_10_11_x86_64.whl (207.1 MB)\n",
      "\u001b[K     |████████████████████████████████| 207.1 MB 20 kB/s  eta 0:00:017   |████▎                           | 27.4 MB 2.6 MB/s eta 0:01:09eta 0:00:52\n",
      "\u001b[?25hCollecting tensorflow-estimator<2.8,~=2.7.0rc0\n",
      "  Downloading tensorflow_estimator-2.7.0-py2.py3-none-any.whl (463 kB)\n",
      "\u001b[K     |████████████████████████████████| 463 kB 2.0 MB/s eta 0:00:01\n",
      "\u001b[?25hCollecting protobuf>=3.9.2\n",
      "  Using cached protobuf-3.19.1-cp39-cp39-macosx_10_9_x86_64.whl (1.0 MB)\n",
      "Requirement already satisfied: numpy>=1.14.5 in /Users/hardikkamboj/anaconda3/envs/ocr_env/lib/python3.9/site-packages (from tensorflow) (1.21.4)\n",
      "Requirement already satisfied: six>=1.12.0 in /Users/hardikkamboj/anaconda3/envs/ocr_env/lib/python3.9/site-packages (from tensorflow) (1.16.0)\n",
      "Collecting termcolor>=1.1.0\n",
      "  Using cached termcolor-1.1.0-py3-none-any.whl\n",
      "Collecting wrapt>=1.11.0\n",
      "  Downloading wrapt-1.13.3-cp39-cp39-macosx_10_9_x86_64.whl (33 kB)\n",
      "Collecting google-pasta>=0.1.1\n",
      "  Using cached google_pasta-0.2.0-py3-none-any.whl (57 kB)\n",
      "Collecting keras-preprocessing>=1.1.1\n",
      "  Using cached Keras_Preprocessing-1.1.2-py2.py3-none-any.whl (42 kB)\n",
      "Collecting gast<0.5.0,>=0.2.1\n",
      "  Using cached gast-0.4.0-py3-none-any.whl (9.8 kB)\n",
      "Requirement already satisfied: typing-extensions>=3.6.6 in /Users/hardikkamboj/anaconda3/envs/ocr_env/lib/python3.9/site-packages (from tensorflow) (4.0.0)\n",
      "Collecting grpcio<2.0,>=1.24.3\n",
      "  Downloading grpcio-1.42.0-cp39-cp39-macosx_10_10_x86_64.whl (4.0 MB)\n",
      "\u001b[K     |████████████████████████████████| 4.0 MB 1.7 MB/s eta 0:00:01\n",
      "\u001b[?25hCollecting absl-py>=0.4.0\n",
      "  Using cached absl_py-1.0.0-py3-none-any.whl (126 kB)\n",
      "Collecting tensorflow-io-gcs-filesystem>=0.21.0\n",
      "  Downloading tensorflow_io_gcs_filesystem-0.22.0-cp39-cp39-macosx_10_14_x86_64.whl (1.6 MB)\n",
      "\u001b[K     |████████████████████████████████| 1.6 MB 1.4 MB/s eta 0:00:01\n",
      "\u001b[?25hCollecting opt-einsum>=2.3.2\n",
      "  Using cached opt_einsum-3.3.0-py3-none-any.whl (65 kB)\n",
      "Requirement already satisfied: h5py>=2.9.0 in /Users/hardikkamboj/anaconda3/envs/ocr_env/lib/python3.9/site-packages (from tensorflow) (3.6.0)\n",
      "Collecting tensorboard~=2.6\n",
      "  Using cached tensorboard-2.7.0-py3-none-any.whl (5.8 MB)\n",
      "Collecting libclang>=9.0.1\n",
      "  Downloading libclang-12.0.0-py2.py3-none-macosx_10_9_x86_64.whl (12.2 MB)\n",
      "\u001b[K     |████████████████████████████████| 12.2 MB 1.4 MB/s eta 0:00:01\n",
      "\u001b[?25hCollecting flatbuffers<3.0,>=1.12\n",
      "  Downloading flatbuffers-2.0-py2.py3-none-any.whl (26 kB)\n",
      "Collecting astunparse>=1.6.0\n",
      "  Using cached astunparse-1.6.3-py2.py3-none-any.whl (12 kB)\n",
      "Collecting keras<2.8,>=2.7.0rc0\n",
      "  Downloading keras-2.7.0-py2.py3-none-any.whl (1.3 MB)\n",
      "\u001b[K     |████████████████████████████████| 1.3 MB 1.8 MB/s eta 0:00:01\n",
      "\u001b[?25hRequirement already satisfied: wheel<1.0,>=0.32.0 in /Users/hardikkamboj/anaconda3/envs/ocr_env/lib/python3.9/site-packages (from tensorflow) (0.37.0)\n",
      "Collecting requests<3,>=2.21.0\n",
      "  Using cached requests-2.26.0-py2.py3-none-any.whl (62 kB)\n",
      "Collecting markdown>=2.6.8\n",
      "  Downloading Markdown-3.3.6-py3-none-any.whl (97 kB)\n",
      "\u001b[K     |████████████████████████████████| 97 kB 2.5 MB/s eta 0:00:01\n",
      "\u001b[?25hCollecting tensorboard-plugin-wit>=1.6.0\n",
      "  Using cached tensorboard_plugin_wit-1.8.0-py3-none-any.whl (781 kB)\n",
      "Collecting google-auth<3,>=1.6.3\n",
      "  Downloading google_auth-2.3.3-py2.py3-none-any.whl (155 kB)\n",
      "\u001b[K     |████████████████████████████████| 155 kB 2.6 MB/s eta 0:00:01\n",
      "\u001b[?25hCollecting google-auth-oauthlib<0.5,>=0.4.1\n",
      "  Using cached google_auth_oauthlib-0.4.6-py2.py3-none-any.whl (18 kB)\n",
      "Requirement already satisfied: setuptools>=41.0.0 in /Users/hardikkamboj/anaconda3/envs/ocr_env/lib/python3.9/site-packages (from tensorboard~=2.6->tensorflow) (58.0.4)\n",
      "Collecting tensorboard-data-server<0.7.0,>=0.6.0\n",
      "  Using cached tensorboard_data_server-0.6.1-py3-none-macosx_10_9_x86_64.whl (3.5 MB)\n",
      "Collecting werkzeug>=0.11.15\n",
      "  Using cached Werkzeug-2.0.2-py3-none-any.whl (288 kB)\n",
      "Collecting cachetools<5.0,>=2.0.0\n",
      "  Using cached cachetools-4.2.4-py3-none-any.whl (10 kB)\n",
      "Collecting pyasn1-modules>=0.2.1\n",
      "  Using cached pyasn1_modules-0.2.8-py2.py3-none-any.whl (155 kB)\n",
      "Collecting rsa<5,>=3.1.4\n",
      "  Downloading rsa-4.8-py3-none-any.whl (39 kB)\n",
      "Collecting requests-oauthlib>=0.7.0\n",
      "  Using cached requests_oauthlib-1.3.0-py2.py3-none-any.whl (23 kB)\n",
      "Requirement already satisfied: importlib-metadata>=4.4 in /Users/hardikkamboj/anaconda3/envs/ocr_env/lib/python3.9/site-packages (from markdown>=2.6.8->tensorboard~=2.6->tensorflow) (4.8.1)\n",
      "Requirement already satisfied: zipp>=0.5 in /Users/hardikkamboj/anaconda3/envs/ocr_env/lib/python3.9/site-packages (from importlib-metadata>=4.4->markdown>=2.6.8->tensorboard~=2.6->tensorflow) (3.6.0)\n",
      "Collecting pyasn1<0.5.0,>=0.4.6\n",
      "  Using cached pyasn1-0.4.8-py2.py3-none-any.whl (77 kB)\n",
      "Collecting urllib3<1.27,>=1.21.1\n",
      "  Using cached urllib3-1.26.7-py2.py3-none-any.whl (138 kB)\n",
      "Collecting charset-normalizer~=2.0.0\n",
      "  Using cached charset_normalizer-2.0.7-py3-none-any.whl (38 kB)\n",
      "Collecting idna<4,>=2.5\n",
      "  Using cached idna-3.3-py3-none-any.whl (61 kB)\n",
      "Requirement already satisfied: certifi>=2017.4.17 in /Users/hardikkamboj/anaconda3/envs/ocr_env/lib/python3.9/site-packages (from requests<3,>=2.21.0->tensorboard~=2.6->tensorflow) (2021.10.8)\n",
      "Collecting oauthlib>=3.0.0\n",
      "  Using cached oauthlib-3.1.1-py2.py3-none-any.whl (146 kB)\n",
      "Installing collected packages: urllib3, pyasn1, idna, charset-normalizer, rsa, requests, pyasn1-modules, oauthlib, cachetools, requests-oauthlib, google-auth, werkzeug, tensorboard-plugin-wit, tensorboard-data-server, protobuf, markdown, grpcio, google-auth-oauthlib, absl-py, wrapt, termcolor, tensorflow-io-gcs-filesystem, tensorflow-estimator, tensorboard, opt-einsum, libclang, keras-preprocessing, keras, google-pasta, gast, flatbuffers, astunparse, tensorflow\n",
      "Successfully installed absl-py-1.0.0 astunparse-1.6.3 cachetools-4.2.4 charset-normalizer-2.0.7 flatbuffers-2.0 gast-0.4.0 google-auth-2.3.3 google-auth-oauthlib-0.4.6 google-pasta-0.2.0 grpcio-1.42.0 idna-3.3 keras-2.7.0 keras-preprocessing-1.1.2 libclang-12.0.0 markdown-3.3.6 oauthlib-3.1.1 opt-einsum-3.3.0 protobuf-3.19.1 pyasn1-0.4.8 pyasn1-modules-0.2.8 requests-2.26.0 requests-oauthlib-1.3.0 rsa-4.8 tensorboard-2.7.0 tensorboard-data-server-0.6.1 tensorboard-plugin-wit-1.8.0 tensorflow-2.7.0 tensorflow-estimator-2.7.0 tensorflow-io-gcs-filesystem-0.22.0 termcolor-1.1.0 urllib3-1.26.7 werkzeug-2.0.2 wrapt-1.13.3\n"
     ]
    }
   ],
   "source": [
    "! pip install tensorflow"
   ]
  },
  {
   "cell_type": "code",
   "execution_count": null,
   "id": "9735e73a",
   "metadata": {},
   "outputs": [],
   "source": [
    "!pip install git+https://github.com/faustomorales/keras-ocr.git#egg=keras-ocr\n"
   ]
  },
  {
   "cell_type": "code",
   "execution_count": null,
   "id": "56df2eb9",
   "metadata": {},
   "outputs": [],
   "source": [
    "!pip install keras-ocr"
   ]
  },
  {
   "cell_type": "code",
   "execution_count": null,
   "id": "3db12965",
   "metadata": {},
   "outputs": [],
   "source": [
    "import keras_ocr"
   ]
  },
  {
   "cell_type": "code",
   "execution_count": 88,
   "id": "a54c432d",
   "metadata": {},
   "outputs": [
    {
     "ename": "NameError",
     "evalue": "name 'keras_ocr' is not defined",
     "output_type": "error",
     "traceback": [
      "\u001b[0;31m---------------------------------------------------------------------------\u001b[0m",
      "\u001b[0;31mNameError\u001b[0m                                 Traceback (most recent call last)",
      "\u001b[0;32m/var/folders/r4/rydmyytn6q1fyl58zgvg8qp80000gn/T/ipykernel_3784/3283305934.py\u001b[0m in \u001b[0;36m<module>\u001b[0;34m\u001b[0m\n\u001b[0;32m----> 1\u001b[0;31m \u001b[0mpipeline\u001b[0m \u001b[0;34m=\u001b[0m \u001b[0mkeras_ocr\u001b[0m\u001b[0;34m.\u001b[0m\u001b[0mpipeline\u001b[0m\u001b[0;34m.\u001b[0m\u001b[0mPipeline\u001b[0m\u001b[0;34m(\u001b[0m\u001b[0;34m)\u001b[0m\u001b[0;34m\u001b[0m\u001b[0;34m\u001b[0m\u001b[0m\n\u001b[0m",
      "\u001b[0;31mNameError\u001b[0m: name 'keras_ocr' is not defined"
     ]
    }
   ],
   "source": [
    "pipeline = keras_ocr.pipeline.Pipeline()\n"
   ]
  },
  {
   "cell_type": "code",
   "execution_count": null,
   "id": "8c6553af",
   "metadata": {},
   "outputs": [],
   "source": [
    "prediction_groups = pipeline.recognize(images)"
   ]
  },
  {
   "cell_type": "markdown",
   "id": "224edcbd",
   "metadata": {},
   "source": [
    "# 6. Tabula"
   ]
  },
  {
   "cell_type": "code",
   "execution_count": 24,
   "id": "5c821543",
   "metadata": {},
   "outputs": [],
   "source": [
    "import tabula"
   ]
  },
  {
   "cell_type": "code",
   "execution_count": 27,
   "id": "4b2ac250",
   "metadata": {},
   "outputs": [],
   "source": [
    "from tabula.io import read_pdf"
   ]
  },
  {
   "cell_type": "code",
   "execution_count": 28,
   "id": "97d652b7",
   "metadata": {},
   "outputs": [
    {
     "data": {
      "text/plain": [
       "'saved_pdf/doc.pdf'"
      ]
     },
     "execution_count": 28,
     "metadata": {},
     "output_type": "execute_result"
    }
   ],
   "source": [
    "pdf"
   ]
  },
  {
   "cell_type": "code",
   "execution_count": 31,
   "id": "374543d7",
   "metadata": {},
   "outputs": [
    {
     "name": "stderr",
     "output_type": "stream",
     "text": [
      "'pages' argument isn't specified.Will extract only from page 1 by default.\n",
      "Error from tabula-java:\n",
      "The operation couldn’t be completed. Unable to locate a Java Runtime.\n",
      "Please visit http://www.java.com for information on installing Java.\n",
      "\n",
      "\n",
      "\n"
     ]
    },
    {
     "ename": "CalledProcessError",
     "evalue": "Command '['java', '-Djava.awt.headless=true', '-Dfile.encoding=UTF8', '-jar', '/Users/hardikkamboj/anaconda3/envs/ocr_env/lib/python3.9/site-packages/tabula/tabula-1.0.5-jar-with-dependencies.jar', '--guess', '--format', 'JSON', 'saved_pdf/doc.pdf']' returned non-zero exit status 1.",
     "output_type": "error",
     "traceback": [
      "\u001b[0;31m---------------------------------------------------------------------------\u001b[0m",
      "\u001b[0;31mCalledProcessError\u001b[0m                        Traceback (most recent call last)",
      "\u001b[0;32m/var/folders/r4/rydmyytn6q1fyl58zgvg8qp80000gn/T/ipykernel_27540/1278043449.py\u001b[0m in \u001b[0;36m<module>\u001b[0;34m\u001b[0m\n\u001b[0;32m----> 1\u001b[0;31m \u001b[0mdf\u001b[0m \u001b[0;34m=\u001b[0m \u001b[0mread_pdf\u001b[0m\u001b[0;34m(\u001b[0m\u001b[0mpdf\u001b[0m\u001b[0;34m)\u001b[0m\u001b[0;34m\u001b[0m\u001b[0;34m\u001b[0m\u001b[0m\n\u001b[0m",
      "\u001b[0;32m~/anaconda3/envs/ocr_env/lib/python3.9/site-packages/tabula/io.py\u001b[0m in \u001b[0;36mread_pdf\u001b[0;34m(input_path, output_format, encoding, java_options, pandas_options, multiple_tables, user_agent, **kwargs)\u001b[0m\n\u001b[1;32m    320\u001b[0m \u001b[0;34m\u001b[0m\u001b[0m\n\u001b[1;32m    321\u001b[0m     \u001b[0;32mtry\u001b[0m\u001b[0;34m:\u001b[0m\u001b[0;34m\u001b[0m\u001b[0;34m\u001b[0m\u001b[0m\n\u001b[0;32m--> 322\u001b[0;31m         \u001b[0moutput\u001b[0m \u001b[0;34m=\u001b[0m \u001b[0m_run\u001b[0m\u001b[0;34m(\u001b[0m\u001b[0mjava_options\u001b[0m\u001b[0;34m,\u001b[0m \u001b[0mkwargs\u001b[0m\u001b[0;34m,\u001b[0m \u001b[0mpath\u001b[0m\u001b[0;34m,\u001b[0m \u001b[0mencoding\u001b[0m\u001b[0;34m)\u001b[0m\u001b[0;34m\u001b[0m\u001b[0;34m\u001b[0m\u001b[0m\n\u001b[0m\u001b[1;32m    323\u001b[0m     \u001b[0;32mfinally\u001b[0m\u001b[0;34m:\u001b[0m\u001b[0;34m\u001b[0m\u001b[0;34m\u001b[0m\u001b[0m\n\u001b[1;32m    324\u001b[0m         \u001b[0;32mif\u001b[0m \u001b[0mtemporary\u001b[0m\u001b[0;34m:\u001b[0m\u001b[0;34m\u001b[0m\u001b[0;34m\u001b[0m\u001b[0m\n",
      "\u001b[0;32m~/anaconda3/envs/ocr_env/lib/python3.9/site-packages/tabula/io.py\u001b[0m in \u001b[0;36m_run\u001b[0;34m(java_options, options, path, encoding)\u001b[0m\n\u001b[1;32m     78\u001b[0m \u001b[0;34m\u001b[0m\u001b[0m\n\u001b[1;32m     79\u001b[0m     \u001b[0;32mtry\u001b[0m\u001b[0;34m:\u001b[0m\u001b[0;34m\u001b[0m\u001b[0;34m\u001b[0m\u001b[0m\n\u001b[0;32m---> 80\u001b[0;31m         result = subprocess.run(\n\u001b[0m\u001b[1;32m     81\u001b[0m             \u001b[0margs\u001b[0m\u001b[0;34m,\u001b[0m\u001b[0;34m\u001b[0m\u001b[0;34m\u001b[0m\u001b[0m\n\u001b[1;32m     82\u001b[0m             \u001b[0mstdout\u001b[0m\u001b[0;34m=\u001b[0m\u001b[0msubprocess\u001b[0m\u001b[0;34m.\u001b[0m\u001b[0mPIPE\u001b[0m\u001b[0;34m,\u001b[0m\u001b[0;34m\u001b[0m\u001b[0;34m\u001b[0m\u001b[0m\n",
      "\u001b[0;32m~/anaconda3/envs/ocr_env/lib/python3.9/subprocess.py\u001b[0m in \u001b[0;36mrun\u001b[0;34m(input, capture_output, timeout, check, *popenargs, **kwargs)\u001b[0m\n\u001b[1;32m    526\u001b[0m         \u001b[0mretcode\u001b[0m \u001b[0;34m=\u001b[0m \u001b[0mprocess\u001b[0m\u001b[0;34m.\u001b[0m\u001b[0mpoll\u001b[0m\u001b[0;34m(\u001b[0m\u001b[0;34m)\u001b[0m\u001b[0;34m\u001b[0m\u001b[0;34m\u001b[0m\u001b[0m\n\u001b[1;32m    527\u001b[0m         \u001b[0;32mif\u001b[0m \u001b[0mcheck\u001b[0m \u001b[0;32mand\u001b[0m \u001b[0mretcode\u001b[0m\u001b[0;34m:\u001b[0m\u001b[0;34m\u001b[0m\u001b[0;34m\u001b[0m\u001b[0m\n\u001b[0;32m--> 528\u001b[0;31m             raise CalledProcessError(retcode, process.args,\n\u001b[0m\u001b[1;32m    529\u001b[0m                                      output=stdout, stderr=stderr)\n\u001b[1;32m    530\u001b[0m     \u001b[0;32mreturn\u001b[0m \u001b[0mCompletedProcess\u001b[0m\u001b[0;34m(\u001b[0m\u001b[0mprocess\u001b[0m\u001b[0;34m.\u001b[0m\u001b[0margs\u001b[0m\u001b[0;34m,\u001b[0m \u001b[0mretcode\u001b[0m\u001b[0;34m,\u001b[0m \u001b[0mstdout\u001b[0m\u001b[0;34m,\u001b[0m \u001b[0mstderr\u001b[0m\u001b[0;34m)\u001b[0m\u001b[0;34m\u001b[0m\u001b[0;34m\u001b[0m\u001b[0m\n",
      "\u001b[0;31mCalledProcessError\u001b[0m: Command '['java', '-Djava.awt.headless=true', '-Dfile.encoding=UTF8', '-jar', '/Users/hardikkamboj/anaconda3/envs/ocr_env/lib/python3.9/site-packages/tabula/tabula-1.0.5-jar-with-dependencies.jar', '--guess', '--format', 'JSON', 'saved_pdf/doc.pdf']' returned non-zero exit status 1."
     ]
    }
   ],
   "source": [
    "df = read_pdf(pdf)"
   ]
  },
  {
   "cell_type": "code",
   "execution_count": null,
   "id": "01649a3e",
   "metadata": {},
   "outputs": [],
   "source": []
  }
 ],
 "metadata": {
  "kernelspec": {
   "display_name": "Python 3",
   "language": "python",
   "name": "python3"
  },
  "language_info": {
   "codemirror_mode": {
    "name": "ipython",
    "version": 3
   },
   "file_extension": ".py",
   "mimetype": "text/x-python",
   "name": "python",
   "nbconvert_exporter": "python",
   "pygments_lexer": "ipython3",
   "version": "3.9.4"
  }
 },
 "nbformat": 4,
 "nbformat_minor": 5
}
