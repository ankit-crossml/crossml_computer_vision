{
 "cells": [
  {
   "cell_type": "code",
   "execution_count": 23,
   "id": "e880c050",
   "metadata": {},
   "outputs": [],
   "source": [
    "def remove_noise_and_smooth(img):\n",
    "    gray = cv2.cvtColor(img, cv2.COLOR_BGR2GRAY)\n",
    "    filtered = cv2.adaptiveThreshold(gray, 255, cv2.ADAPTIVE_THRESH_MEAN_C, cv2.THRESH_BINARY, 9, 41)\n",
    "    kernel = np.ones((1, 1), np.uint8)\n",
    "    opening = cv2.morphologyEx(filtered, cv2.MORPH_OPEN, kernel)\n",
    "    closing = cv2.morphologyEx(opening, cv2.MORPH_CLOSE, kernel)\n",
    "    img = image_smoothening(img)\n",
    "    or_image = cv2.bitwise_or(img, closing)\n",
    "    return or_image"
   ]
  },
  {
   "cell_type": "code",
   "execution_count": 18,
   "id": "e11b0486",
   "metadata": {},
   "outputs": [],
   "source": [
    "def plot_img_and_thresh(img):\n",
    "    \n",
    "    gray = cv2.cvtColor(img, cv2.COLOR_BGR2GRAY)\n",
    "    _, thresh = cv2.threshold(gray, 155, 255, cv2.THRESH_BINARY)\n",
    "    \n",
    "    plot_two_images(img, \"Origianl Image\", thresh, \"Thresholded Image\")\n",
    "    \n",
    "def plot_two_images(img1, title1, img2, title2):\n",
    "    plt.subplot(121)\n",
    "    plt.imshow(img1)\n",
    "    plt.title(title1)\n",
    "    \n",
    "    plt.subplot(122)\n",
    "    if img2.ndim == 2:\n",
    "        plt.imshow(img2, cmap=\"gray\")\n",
    "    else:\n",
    "        plt.imshow(img2)\n",
    "    plt.title(title2)"
   ]
  },
  {
   "cell_type": "code",
   "execution_count": 19,
   "id": "e11a9189",
   "metadata": {},
   "outputs": [],
   "source": [
    "import os \n",
    "import cv2 \n",
    "import numpy as np \n",
    "from glob import glob \n",
    "\n",
    "import matplotlib.pyplot as plt \n",
    "from main import remove_salt_pepper_noise\n",
    "\n",
    "plt.rcParams['figure.figsize'] = (20,8)"
   ]
  },
  {
   "cell_type": "code",
   "execution_count": 25,
   "id": "42b4a8ea",
   "metadata": {},
   "outputs": [
    {
     "ename": "NameError",
     "evalue": "name 'image_smoothening' is not defined",
     "output_type": "error",
     "traceback": [
      "\u001b[0;31m---------------------------------------------------------------------------\u001b[0m",
      "\u001b[0;31mNameError\u001b[0m                                 Traceback (most recent call last)",
      "\u001b[0;32m<ipython-input-25-6f9377704692>\u001b[0m in \u001b[0;36m<module>\u001b[0;34m\u001b[0m\n\u001b[1;32m      5\u001b[0m \u001b[0;34m\u001b[0m\u001b[0m\n\u001b[1;32m      6\u001b[0m \u001b[0;34m\u001b[0m\u001b[0m\n\u001b[0;32m----> 7\u001b[0;31m     \u001b[0mdenoised\u001b[0m \u001b[0;34m=\u001b[0m \u001b[0mremove_noise_and_smooth\u001b[0m\u001b[0;34m(\u001b[0m\u001b[0mimg\u001b[0m\u001b[0;34m)\u001b[0m\u001b[0;34m\u001b[0m\u001b[0;34m\u001b[0m\u001b[0m\n\u001b[0m\u001b[1;32m      8\u001b[0m \u001b[0;34m\u001b[0m\u001b[0m\n\u001b[1;32m      9\u001b[0m     \u001b[0mplot_two_images\u001b[0m\u001b[0;34m(\u001b[0m\u001b[0mimg\u001b[0m\u001b[0;34m,\u001b[0m \u001b[0;34m\"Original\"\u001b[0m\u001b[0;34m,\u001b[0m \u001b[0mdenoised\u001b[0m\u001b[0;34m,\u001b[0m \u001b[0;34m\"denoised\"\u001b[0m\u001b[0;34m)\u001b[0m\u001b[0;34m\u001b[0m\u001b[0;34m\u001b[0m\u001b[0m\n",
      "\u001b[0;32m<ipython-input-23-111577509c5f>\u001b[0m in \u001b[0;36mremove_noise_and_smooth\u001b[0;34m(img)\u001b[0m\n\u001b[1;32m      5\u001b[0m     \u001b[0mopening\u001b[0m \u001b[0;34m=\u001b[0m \u001b[0mcv2\u001b[0m\u001b[0;34m.\u001b[0m\u001b[0mmorphologyEx\u001b[0m\u001b[0;34m(\u001b[0m\u001b[0mfiltered\u001b[0m\u001b[0;34m,\u001b[0m \u001b[0mcv2\u001b[0m\u001b[0;34m.\u001b[0m\u001b[0mMORPH_OPEN\u001b[0m\u001b[0;34m,\u001b[0m \u001b[0mkernel\u001b[0m\u001b[0;34m)\u001b[0m\u001b[0;34m\u001b[0m\u001b[0;34m\u001b[0m\u001b[0m\n\u001b[1;32m      6\u001b[0m     \u001b[0mclosing\u001b[0m \u001b[0;34m=\u001b[0m \u001b[0mcv2\u001b[0m\u001b[0;34m.\u001b[0m\u001b[0mmorphologyEx\u001b[0m\u001b[0;34m(\u001b[0m\u001b[0mopening\u001b[0m\u001b[0;34m,\u001b[0m \u001b[0mcv2\u001b[0m\u001b[0;34m.\u001b[0m\u001b[0mMORPH_CLOSE\u001b[0m\u001b[0;34m,\u001b[0m \u001b[0mkernel\u001b[0m\u001b[0;34m)\u001b[0m\u001b[0;34m\u001b[0m\u001b[0;34m\u001b[0m\u001b[0m\n\u001b[0;32m----> 7\u001b[0;31m     \u001b[0mimg\u001b[0m \u001b[0;34m=\u001b[0m \u001b[0mimage_smoothening\u001b[0m\u001b[0;34m(\u001b[0m\u001b[0mimg\u001b[0m\u001b[0;34m)\u001b[0m\u001b[0;34m\u001b[0m\u001b[0;34m\u001b[0m\u001b[0m\n\u001b[0m\u001b[1;32m      8\u001b[0m     \u001b[0mor_image\u001b[0m \u001b[0;34m=\u001b[0m \u001b[0mcv2\u001b[0m\u001b[0;34m.\u001b[0m\u001b[0mbitwise_or\u001b[0m\u001b[0;34m(\u001b[0m\u001b[0mimg\u001b[0m\u001b[0;34m,\u001b[0m \u001b[0mclosing\u001b[0m\u001b[0;34m)\u001b[0m\u001b[0;34m\u001b[0m\u001b[0;34m\u001b[0m\u001b[0m\n\u001b[1;32m      9\u001b[0m     \u001b[0;32mreturn\u001b[0m \u001b[0mor_image\u001b[0m\u001b[0;34m\u001b[0m\u001b[0;34m\u001b[0m\u001b[0m\n",
      "\u001b[0;31mNameError\u001b[0m: name 'image_smoothening' is not defined"
     ]
    }
   ],
   "source": [
    "files = glob(\"images/*.*\")\n",
    "\n",
    "for img_path in files:\n",
    "    img = cv2.imread(img_path)\n",
    "    \n",
    "    \n",
    "    denoised = remove_noise_and_smooth(img)\n",
    "    \n",
    "    plot_two_images(img, \"Original\", denoised, \"denoised\")"
   ]
  },
  {
   "cell_type": "code",
   "execution_count": null,
   "id": "c3e6b58f",
   "metadata": {},
   "outputs": [],
   "source": []
  }
 ],
 "metadata": {
  "kernelspec": {
   "display_name": "Python 3",
   "language": "python",
   "name": "python3"
  },
  "language_info": {
   "codemirror_mode": {
    "name": "ipython",
    "version": 3
   },
   "file_extension": ".py",
   "mimetype": "text/x-python",
   "name": "python",
   "nbconvert_exporter": "python",
   "pygments_lexer": "ipython3",
   "version": "3.9.4"
  }
 },
 "nbformat": 4,
 "nbformat_minor": 5
}
